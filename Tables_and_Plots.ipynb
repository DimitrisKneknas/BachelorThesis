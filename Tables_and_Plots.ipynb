version https://git-lfs.github.com/spec/v1
oid sha256:9f0fe9ab278c31d6f21c81813b3505b7365a3040940c8a5cd6c740e4b7c038fe
size 2383702
