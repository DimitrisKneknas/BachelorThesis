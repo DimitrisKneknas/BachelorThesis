version https://git-lfs.github.com/spec/v1
oid sha256:c4518536d60ff99283763f5332fa5fb89f69273123231fc47540fd3becec19df
size 56485940
